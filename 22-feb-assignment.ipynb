{
 "cells": [
  {
   "cell_type": "code",
   "execution_count": 2,
   "id": "7f2c3c03-999e-42ff-bf7d-1a5a976b476d",
   "metadata": {},
   "outputs": [
    {
     "name": "stdout",
     "output_type": "stream",
     "text": [
      "0     4\n",
      "1     8\n",
      "2    15\n",
      "3    16\n",
      "4    23\n",
      "5    42\n",
      "dtype: int64\n"
     ]
    }
   ],
   "source": [
    "# ANS 1 =>\n",
    "\n",
    "import pandas as pd\n",
    "sr=pd.Series([4,8,15,16,23,42])\n",
    "print(sr)"
   ]
  },
  {
   "cell_type": "code",
   "execution_count": 4,
   "id": "a12fc20c-8fc1-457b-9583-73831405f797",
   "metadata": {},
   "outputs": [
    {
     "name": "stdout",
     "output_type": "stream",
     "text": [
      "0     1\n",
      "1     2\n",
      "2     3\n",
      "3     4\n",
      "4     5\n",
      "5     6\n",
      "6     7\n",
      "7     8\n",
      "8     9\n",
      "9    10\n",
      "dtype: int64\n"
     ]
    }
   ],
   "source": [
    "# ANS 2 =>\n",
    "\n",
    "import pandas as pd\n",
    "lst=[1, 2, 3, 4, 5, 6, 7, 8, 9, 10]\n",
    "sr=pd.Series(lst)\n",
    "print(sr)"
   ]
  },
  {
   "cell_type": "code",
   "execution_count": 5,
   "id": "e9655e90-19ff-4e71-a490-98593523df71",
   "metadata": {},
   "outputs": [
    {
     "name": "stdout",
     "output_type": "stream",
     "text": [
      "      Name  Age  Gender\n",
      "0     Yash   21    Male\n",
      "1  Sarthak   18    Male\n",
      "2  Shristy   16  Female\n"
     ]
    }
   ],
   "source": [
    "# ANS 3 =>\n",
    "\n",
    "import pandas as pd\n",
    "\n",
    "data = {'Name': ['Yash', 'Sarthak', 'Shristy'],\n",
    "        'Age': [21, 18, 16],\n",
    "        'Gender': ['Male', 'Male', 'Female']}\n",
    "df = pd.DataFrame(data)\n",
    "print(df)\n"
   ]
  },
  {
   "cell_type": "code",
   "execution_count": 6,
   "id": "e3de73f8-e9f5-4224-9e1d-016d4e8c1feb",
   "metadata": {},
   "outputs": [],
   "source": [
    "# ANS 4 =>\n",
    "\n",
    "# In Pandas, a DataFrame is a two-dimensional labeled data structure with columns of potentially different types. It is \n",
    "# similar to a table in a relational database or a spreadsheet in Excel. A Pandas DataFrame can be thought of as a \n",
    "# collection of Pandas Series, where each Series represents a column of data.\n",
    "\n",
    "# A Pandas Series, on the other hand, is a one-dimensional labeled data structure that can hold any data type (integer, \n",
    "# float, string, etc.). It can be thought of as a single column of data in a DataFrame.\n",
    "\n",
    "# Example\n",
    "\n",
    "# import pandas as pd\n",
    "\n",
    "# s = pd.Series([1, 2, 3, 4])\n",
    "\n",
    "# df = pd.DataFrame({'A': [1, 2, 3, 4], 'B': ['a', 'b', 'c', 'd']})\n",
    "\n",
    "# print('Series:')\n",
    "# print(s)\n",
    "\n",
    "# print('\\nDataFrame:')\n",
    "# print(df)\n",
    "\n",
    "\n",
    "# Output\n",
    "\n",
    "# Series:\n",
    "# 0    1\n",
    "# 1    2\n",
    "# 2    3\n",
    "# 3    4\n",
    "# dtype: int64\n",
    "\n",
    "# DataFrame:\n",
    "#    A  B\n",
    "# 0  1  a\n",
    "# 1  2  b\n",
    "# 2  3  c\n",
    "# 3  4  d\n"
   ]
  },
  {
   "cell_type": "code",
   "execution_count": 7,
   "id": "de233497-0094-4d9f-958e-9819f0ea663c",
   "metadata": {},
   "outputs": [],
   "source": [
    "# ANS 5 =>\n",
    "\n",
    "# There are many common functions and methods available in Pandas that can be used to manipulate data in a DataFrame. \n",
    "# Here are some of the most commonly used ones:\n",
    "\n",
    "# 1) head(): returns the first n rows of the DataFrame. Useful for quickly inspecting the data to make sure it looks correct.\n",
    "\n",
    "# Example => df.head(5) \n",
    "\n",
    "# 2) tail(): returns the last n rows of the DataFrame. Useful for quickly inspecting the end of the data.\n",
    "\n",
    "# Example => df.tail(5)\n",
    "\n",
    "# 3) describe(): generates descriptive statistics for the DataFrame. Useful for getting a quick overview of the data\n",
    "\n",
    "# Example => df.describe()\n",
    "\n",
    "# 4) info(): displays information about the DataFrame, such as the number of non-null values in each column and the data \n",
    "#     types of each column. Useful for checking the data types and detecting missing values.\n",
    "\n",
    "# Example => df.info() \n",
    "\n",
    "# 5) loc[] and iloc[]: used for indexing and selecting data from the DataFrame. loc[] is label-based and selects data\n",
    "#     based on row and column labels, while iloc[] is integer-based and selects data based on integer positions.\n",
    "\n",
    "# Example => df.loc[0, 'A']  df.iloc[0, 0] \n"
   ]
  },
  {
   "cell_type": "code",
   "execution_count": 8,
   "id": "957957ec-9a04-4bf1-8c73-d3400dcfa80b",
   "metadata": {},
   "outputs": [],
   "source": [
    "# ANS 6 =>\n",
    "\n",
    "# Series and DataFrame are mutable in nature, while Panel is immutable.\n",
    "\n",
    "# In a Series, the values can be changed using indexing or slicing. Similarly, in a DataFrame, you can change the values of\n",
    "# individual cells, rows, or columns using indexing, slicing, or the loc[] and iloc[] methods.\n",
    "\n",
    "# On the other hand, a Panel is a 3D data structure and is immutable, meaning once created, you cannot change its contents. \n",
    "# If you want to change a Panel, you need to create a new one with the desired changes. However, Panel is deprecated in the\n",
    "# latest version of Pandas and is recommended to use other data structures such as multi-index DataFrames to represent 3D data.\n"
   ]
  },
  {
   "cell_type": "code",
   "execution_count": 9,
   "id": "2b477809-14b9-40a5-ac04-d1c30dc23004",
   "metadata": {},
   "outputs": [
    {
     "name": "stdout",
     "output_type": "stream",
     "text": [
      "      Name  Age Gender\n",
      "0     Yash   21      M\n",
      "1  Sarthak   16      F\n",
      "2  Shristy   19      M\n",
      "3       AK   50      M\n"
     ]
    }
   ],
   "source": [
    "# ANS 7 => \n",
    "\n",
    "import pandas as pd\n",
    "\n",
    "names = pd.Series(['Yash', 'Sarthak', 'Shristy', 'AK'])\n",
    "ages = pd.Series([21, 16, 19, 50])\n",
    "genders = pd.Series(['M', 'F', 'M', 'M'])\n",
    "\n",
    "df = pd.DataFrame({'Name': names, 'Age': ages, 'Gender': genders})\n",
    "\n",
    "print(df)\n",
    "\n",
    "# In this example, we define three Pandas Series, names, ages, and genders, which contain some data about people. We then \n",
    "# combine these Series into a single DataFrame using a Python dictionary where the keys represent the column names and the\n",
    "# values represent the Series themselves. Finally, we print the resulting DataFrame.\n",
    "\n"
   ]
  },
  {
   "cell_type": "code",
   "execution_count": null,
   "id": "532b06fd-51ec-4400-89a1-cba950d41454",
   "metadata": {},
   "outputs": [],
   "source": []
  }
 ],
 "metadata": {
  "kernelspec": {
   "display_name": "Python 3 (ipykernel)",
   "language": "python",
   "name": "python3"
  },
  "language_info": {
   "codemirror_mode": {
    "name": "ipython",
    "version": 3
   },
   "file_extension": ".py",
   "mimetype": "text/x-python",
   "name": "python",
   "nbconvert_exporter": "python",
   "pygments_lexer": "ipython3",
   "version": "3.10.8"
  }
 },
 "nbformat": 4,
 "nbformat_minor": 5
}
