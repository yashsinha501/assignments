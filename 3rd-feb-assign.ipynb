{
 "cells": [
  {
   "cell_type": "code",
   "execution_count": null,
   "id": "dfbd68ba-4f69-498b-a851-74bf6d1045a5",
   "metadata": {},
   "outputs": [],
   "source": [
    "# IMPORTANT => This lab is not working properly many of the programs are fine and working well in other IDE giving outputs but it's not working in this jupyter lab"
   ]
  },
  {
   "cell_type": "code",
   "execution_count": 1,
   "id": "fd8fe0b3-6ecc-4b59-9064-d91ce7f18c97",
   "metadata": {},
   "outputs": [
    {
     "data": {
      "text/plain": [
       "[1, 3, 5, 7, 9, 11, 13, 15, 17, 19, 21, 23]"
      ]
     },
     "execution_count": 1,
     "metadata": {},
     "output_type": "execute_result"
    }
   ],
   "source": [
    "# Ans 1 =>\n",
    "\n",
    "# The keyword use to define the function is \"def\"\n",
    "\n",
    "def oddList():\n",
    "    l=[]\n",
    "    for i in range(1,25):\n",
    "        if i%2==1:\n",
    "            l.append(i)\n",
    "    return l\n",
    "\n",
    "oddList()\n"
   ]
  },
  {
   "cell_type": "code",
   "execution_count": 21,
   "id": "5fd9cc09-e5a2-4ab3-9c8b-11467e73eccd",
   "metadata": {},
   "outputs": [
    {
     "name": "stdout",
     "output_type": "stream",
     "text": [
      "Sum: 8\n",
      "Sum: 22\n",
      "Sum: 17\n",
      "{'pwskills': 'College', 'vidyapeeth': 'Jee/Neet', 'youtube': 'Free'}\n",
      "{'Name': 'Yash', 'Surname': 'Sinha', 'Mobile': 'Nahi bataunga', 'assignment': 'Sb complete hai'}\n"
     ]
    }
   ],
   "source": [
    "# Ans 2 =>\n",
    "\n",
    "# *args => *args is used as an argument because it allows us to pass the variable number of arguments to function\n",
    "# Example =>\n",
    "\n",
    "def add(*args):\n",
    "    sum = 0\n",
    "    for i in args:\n",
    "        sum = sum + i\n",
    "\n",
    "    print(\"Sum:\",sum)\n",
    "\n",
    "add(3,5)\n",
    "add(4,5,6,7)\n",
    "add(1,2,3,5,6)\n",
    "\n",
    "\n",
    "\n",
    "# **kwargs => *kwargs is used as an argument because it allows us to pass the variable number of key value pair arguments to function\n",
    "# Example =>\n",
    "\n",
    "def detail(**args):\n",
    "    d={}\n",
    "    for key,value in args.items():\n",
    "        d[key]=value\n",
    "    print(d)\n",
    "\n",
    "detail(pwskills=\"College\",vidyapeeth=\"Jee/Neet\",youtube=\"Free\")\n",
    "\n",
    "detail(Name=\"Yash\",Surname=\"Sinha\",Mobile=\"Nahi bataunga\",assignment=\"Sb complete hai\")\n",
    "\n",
    "\n"
   ]
  },
  {
   "cell_type": "code",
   "execution_count": 26,
   "id": "7d62af0d-374a-4e23-bc1f-057278e55f1e",
   "metadata": {},
   "outputs": [
    {
     "name": "stdout",
     "output_type": "stream",
     "text": [
      "2\n",
      "4\n",
      "6\n",
      "8\n",
      "10\n",
      "12\n",
      "14\n",
      "16\n",
      "18\n",
      "20\n"
     ]
    }
   ],
   "source": [
    "# Ans 3 => \n",
    "\n",
    "# Iterator in Python is an object that is used to iterate over iterable objects like lists, tuples, dicts, and sets.\n",
    "# The iterator object is initialized using the iter() method. It uses the next() method for iteration\n",
    "\n",
    "l=[2, 4, 6, 8, 10, 12, 14,16, 18, 20]\n",
    "\n",
    "ite_obj=iter(l)\n",
    "i=len(l)\n",
    "while i>0:\n",
    "    print(next(ite_obj))\n",
    "    i=i-1\n"
   ]
  },
  {
   "cell_type": "code",
   "execution_count": 29,
   "id": "c992ceb1-4d0e-4aed-890e-098f634d632a",
   "metadata": {},
   "outputs": [
    {
     "name": "stdout",
     "output_type": "stream",
     "text": [
      "1 4 5 6 7 "
     ]
    }
   ],
   "source": [
    "# Ans 4 =>\n",
    "\n",
    "# A generator function is a type of function that is memory efficient and can be used like an iterator object\n",
    "# The yield keyword will turn any expression that is given with it into a generator object and return it to the caller.\n",
    "# so, we have to iterate over the generator object if we wish to obtain the values stored there\n",
    "\n",
    "# Example => \n",
    "\n",
    "l = [1, 4, 5, 6, 7]\n",
    "\n",
    "for j in listItem(l):\n",
    "    print(j, end=\" \")\n",
    "\n",
    "def listItem(l):\n",
    "    for i in l:\n",
    "        yield i\n",
    " "
   ]
  },
  {
   "cell_type": "code",
   "execution_count": null,
   "id": "d8ab2975-4c85-4ab3-b506-4a374940506f",
   "metadata": {},
   "outputs": [],
   "source": [
    "# Ans 5 => \n",
    "\n",
    "l=[]\n",
    "    \n",
    "def isPrime(n):\n",
    "     \n",
    "    # Corner case\n",
    "    if n <= 1 :\n",
    "        return False\n",
    " \n",
    "    # check from 2 to n-1\n",
    "    for i in range(2, n):\n",
    "        if n % i == 0:\n",
    "            return False\n",
    " \n",
    "    return True\n",
    " \n",
    "# Function to print primes\n",
    "def printPrime(n):\n",
    "    for i in range(2, n + 1):\n",
    "        if isPrime(i):\n",
    "            l.append(i)\n",
    " \n",
    "i=20\n",
    "ite_obj=iter(l)\n",
    "while i>0:\n",
    "    print(next(ite_obj))\n",
    "    i=i-1\n",
    "    \n"
   ]
  },
  {
   "cell_type": "code",
   "execution_count": null,
   "id": "02fb1f13-e582-4672-9d5a-000272d6431d",
   "metadata": {},
   "outputs": [],
   "source": [
    "# Ans 6 => \n",
    "\n",
    "i=10\n",
    "one=0\n",
    "two=1\n",
    "\n",
    "while i>0:\n",
    "    print(one,end=\" \") \n",
    "    tmp=one+two\n",
    "    one=two\n",
    "    two=tmp\n",
    "    i=i-1\n"
   ]
  },
  {
   "cell_type": "code",
   "execution_count": 37,
   "id": "d3ae0010-0728-48cd-b605-9768753f8906",
   "metadata": {},
   "outputs": [
    {
     "name": "stdout",
     "output_type": "stream",
     "text": [
      "['p', 'w', 's', 'k', 'i', 'l', 'l', 's']\n"
     ]
    }
   ],
   "source": [
    "# Ans 7 =>\n",
    "\n",
    "string =\"pwskills\"\n",
    "\n",
    "l=[i for i in string]\n",
    "print(l)\n"
   ]
  },
  {
   "cell_type": "code",
   "execution_count": null,
   "id": "8de7a64f-849a-4263-b17d-157bf049ad49",
   "metadata": {},
   "outputs": [],
   "source": [
    "# Ans 8 =>\n",
    "\n",
    "def palind(val):\n",
    "    i=0\n",
    "    j=len(val)-1\n",
    "\n",
    "    while i<=j:\n",
    "        if val[i]!=val[j]:\n",
    "            print(val,\"is not a Palindrome\")\n",
    "            return \".\"\n",
    "            \n",
    "        print(val,\"number is palindrome\")\n",
    "        return \".\"\n",
    "        i=i+1\n",
    "        j=j-1\n",
    "\n",
    "val=input(\"Enter your number\")\n",
    "\n",
    "palind(val)"
   ]
  },
  {
   "cell_type": "code",
   "execution_count": null,
   "id": "add80f87-c439-41d4-b904-b12431597e76",
   "metadata": {},
   "outputs": [],
   "source": [
    "# Ans 9 =>\n",
    "\n",
    "l=[x for x in range(1,101)]\n",
    "\n",
    "for i in l:\n",
    "    if i%2!=0:\n",
    "        print(i,end=\" \")\n"
   ]
  }
 ],
 "metadata": {
  "kernelspec": {
   "display_name": "Python 3 (ipykernel)",
   "language": "python",
   "name": "python3"
  },
  "language_info": {
   "codemirror_mode": {
    "name": "ipython",
    "version": 3
   },
   "file_extension": ".py",
   "mimetype": "text/x-python",
   "name": "python",
   "nbconvert_exporter": "python",
   "pygments_lexer": "ipython3",
   "version": "3.10.8"
  }
 },
 "nbformat": 4,
 "nbformat_minor": 5
}
