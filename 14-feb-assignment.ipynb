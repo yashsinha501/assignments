{
 "cells": [
  {
   "cell_type": "code",
   "execution_count": 1,
   "id": "a41e8b09-c61b-4d08-92f1-536e4e05371e",
   "metadata": {},
   "outputs": [],
   "source": [
    "# ANS 1 =>\n",
    "\n",
    "\n"
   ]
  },
  {
   "cell_type": "code",
   "execution_count": 6,
   "id": "f8f84f7d-1e55-48fa-9307-a5f209725aef",
   "metadata": {},
   "outputs": [],
   "source": [
    "# ANS 2 =>\n",
    "\n",
    "\n"
   ]
  },
  {
   "cell_type": "code",
   "execution_count": 7,
   "id": "95a44224-5f71-41f0-bd4d-61229529a67b",
   "metadata": {},
   "outputs": [],
   "source": [
    "# ANS 3 =>\n",
    "\n",
    "\n"
   ]
  },
  {
   "cell_type": "code",
   "execution_count": 8,
   "id": "93d39dc1-e9a6-4329-a090-5899de88bf9b",
   "metadata": {},
   "outputs": [],
   "source": [
    "# ANS 4 =>\n",
    "\n",
    "\n"
   ]
  },
  {
   "cell_type": "code",
   "execution_count": 9,
   "id": "71c55bd8-2945-4174-9f26-eb9bd15742ec",
   "metadata": {},
   "outputs": [],
   "source": [
    "# ANS 5 =>\n",
    "\n",
    "# Multithreading is a technique of concurrent programming where multiple threads (lightweight processes) run concurrently within the same process. Multithreading has several advantages and disadvantages:\n",
    "\n",
    "# Advantages:\n",
    "    \n",
    "# 1) Improved performance: Multithreading can improve the performance of a program by allowing it to execute multiple threads in\n",
    "#     parallel. This can result in faster execution of the program.\n",
    "\n",
    "# 2) Efficient use of resources: Multithreading allows a program to make efficient use of system resources like CPUs and memory by \n",
    "#     dividing the workload into smaller, more manageable chunks.\n",
    "\n",
    "# 3) Improved user experience: Multithreading can improve the user experience of a program by allowing it to be more responsive to \n",
    "#     user input. For example, a multithreaded program can continue to respond to user input even while performing a long-running \n",
    "#     operation in the background.\n",
    "\n",
    "# 4) Simplified programming: Multithreading can simplify the programming of complex applications by allowing different parts of the \n",
    "#     program to run concurrently, making it easier to manage.\n",
    "\n",
    "# Disadvantages:\n",
    "\n",
    "# 1) Complexity: Multithreading can introduce complexity into a program by requiring the programmer to manage concurrency issues such\n",
    "#     as synchronization, deadlock, and race conditions.\n",
    "\n",
    "# 2) Increased memory usage: Multithreading can increase the memory usage of a program since each thread requires its own stack and\n",
    "#     data structures.\n",
    "\n",
    "# 3) Debugging complexity: Debugging multithreaded programs can be more complex than debugging single-threaded programs since there\n",
    "#     are multiple threads running simultaneously.\n",
    "\n",
    "# 4)System overhead: Multithreading can introduce additional system overhead since the operating system must manage the scheduling \n",
    "#     and execution of multiple threads."
   ]
  },
  {
   "cell_type": "code",
   "execution_count": 10,
   "id": "9d686122-8048-4c45-92b0-c47b989358ac",
   "metadata": {},
   "outputs": [],
   "source": [
    "# ANS 6 =>\n",
    "\n",
    "# Deadlocks and race conditions are two common concurrency issues that can arise in multithreaded programs.\n",
    "\n",
    "# Deadlocks occur when two or more threads are blocked and unable to continue executing because they are waiting for resources \n",
    "# held by other threads. In a deadlock situation, none of the threads can proceed,and the program is stuck in an infinite loop. \n",
    "# Deadlocks can occur when two or more threads are waiting for the same resources, or when they are waiting for resources \n",
    "# held by each other.To avoid deadlocks, it is essential to ensure that threads do not hold resources that are required by \n",
    "# other threads and release resources in a timely manner when they are no longer needed.\n",
    "\n",
    "# Race conditions occur when two or more threads access shared data or resources simultaneously, and the result of the \n",
    "# operation depends on the order in which the threads execute. In a race condition, the outcome of the operation can be \n",
    "# unpredictable, and the program can produce incorrect results.Race conditions can occur when multiple threads modify the same\n",
    "# variable or object without proper synchronization, or when threads access shared resources in an unpredictable manner. To \n",
    "# avoid race conditions, it is essential to synchronize the access to shared resources and ensure that only one thread at a\n",
    "# time can access them.\n",
    "\n",
    "# Both deadlocks and race conditions are common issues in multithreaded programs, and they can be difficult to detect and\n",
    "# debug. To avoid these issues, it is important to follow good concurrency programming practices, such as proper \n",
    "# synchronization of shared resources, avoiding circular dependencies between threads, and minimizing the amount of shared \n",
    "# data and resources. By doing so, it is possible to write multithreaded programs that are correct, efficient, and free of \n",
    "# concurrency issues.\n",
    "\n"
   ]
  }
 ],
 "metadata": {
  "kernelspec": {
   "display_name": "Python 3 (ipykernel)",
   "language": "python",
   "name": "python3"
  },
  "language_info": {
   "codemirror_mode": {
    "name": "ipython",
    "version": 3
   },
   "file_extension": ".py",
   "mimetype": "text/x-python",
   "name": "python",
   "nbconvert_exporter": "python",
   "pygments_lexer": "ipython3",
   "version": "3.10.8"
  }
 },
 "nbformat": 4,
 "nbformat_minor": 5
}
