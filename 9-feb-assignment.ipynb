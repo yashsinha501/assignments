{
 "cells": [
  {
   "cell_type": "code",
   "execution_count": 17,
   "id": "19392bed-c4aa-46f4-9119-844beba430d8",
   "metadata": {},
   "outputs": [
    {
     "data": {
      "text/plain": [
       "('Range Rover', 300, 10)"
      ]
     },
     "execution_count": 17,
     "metadata": {},
     "output_type": "execute_result"
    }
   ],
   "source": [
    "# Ans 1 =>\n",
    "\n",
    "class vehicle:\n",
    "    \n",
    "    def __init__(self,name_of_vehicle, max_speed,average_of_vehicle):\n",
    "        self.name_of_vehicle=name_of_vehicle\n",
    "        self.max_speed=max_speed\n",
    "        self.average_of_vehicle=average_of_vehicle\n",
    "    \n",
    "    def getData(self):\n",
    "        return self.name_of_vehicle, self.max_speed,self.average_of_vehicle\n",
    "    \n",
    "v=vehicle(\"Range Rover\",300,10)\n",
    "v.getData()\n",
    "    "
   ]
  },
  {
   "cell_type": "code",
   "execution_count": 26,
   "id": "81421986-6e16-46ee-a7de-0453535d26e2",
   "metadata": {},
   "outputs": [
    {
     "data": {
      "text/plain": [
       "('Range Rover', 4)"
      ]
     },
     "execution_count": 26,
     "metadata": {},
     "output_type": "execute_result"
    }
   ],
   "source": [
    "# Ans 2 =>\n",
    "\n",
    "class child(vehicle):\n",
    "    \n",
    "    def seating_capacity(self,n):\n",
    "        self.seating_capacity=n\n",
    "        return self.name_of_vehicle,self.seating_capacity\n",
    "\n",
    "# v=child(\"Range Rover\",300,10)\n",
    "x=child(\"Range Rover\",300,10)\n",
    "x.seating_capacity(4)"
   ]
  },
  {
   "cell_type": "code",
   "execution_count": 27,
   "id": "bf0a54ec-57fd-4d5e-bc88-a8e80ab34e80",
   "metadata": {},
   "outputs": [],
   "source": [
    "# Ans 3 =>\n",
    "\n",
    "# When a class is derived from more than one base class it is called multiple Inheritance.\n",
    "# The derived class inherits all the features of the base case.\n",
    "\n",
    "# Syntax:\n",
    "\n",
    "# Class Base1:\n",
    "#        Body of the class\n",
    "\n",
    "# Class Base2:\n",
    "#      Body of the class\n",
    "\n",
    "# Class Derived(Base1, Base2):\n",
    "#      Body of the class\n",
    "\n",
    "\n",
    "# Example => \n",
    "\n",
    "# class Class1:\n",
    "#     def m(self):\n",
    "#         print(\"In Class1\")\n",
    "       \n",
    "# class Class2(Class1):\n",
    "#     def m(self):\n",
    "#         print(\"In Class2\")\n",
    " \n",
    "# class Class3(Class1):\n",
    "#     def m(self):\n",
    "#         print(\"In Class3\") \n",
    "        \n",
    "# class Class4(Class2, Class3):\n",
    "#     pass  \n",
    "     \n",
    "# obj = Class4()\n",
    "# obj.m()\n",
    "\n",
    "# Output =>\n",
    "\n",
    "# In Class2\n"
   ]
  },
  {
   "cell_type": "code",
   "execution_count": 28,
   "id": "8785f479-2d51-47c5-9871-689272b10eed",
   "metadata": {},
   "outputs": [],
   "source": [
    "# Ans 4 =>\n",
    "\n",
    "# In Python, getters and setters are not the same as those in other object-oriented programming languages. \n",
    "# Basically, the main purpose of using getters and setters in object-oriented programs is to ensure data encapsulation.\n",
    "# Private variables in python are not actually hidden fields like in other object oriented languages. \n",
    "# Getters and Setters in python are often used when:\n",
    "\n",
    "# => We use getters & setters to add validation logic around getting and setting a value.\n",
    "# => To avoid direct access of a class field i.e. private variables cannot be accessed directly or modified by external user.\n",
    "\n",
    "# class c:\n",
    "#      def __init__(self):\n",
    "#           self._age = 0\n",
    "       \n",
    "#      def get_age(self):\n",
    "#          print(\"getter method called\")\n",
    "#          return self._age\n",
    "       \n",
    "#      def set_age(self, a):\n",
    "#          print(\"setter method called\")\n",
    "#          self._age = a\n",
    "  \n",
    "#      def del_age(self):\n",
    "#          del self._age\n",
    "     \n",
    "#      age = property(get_age, set_age, del_age) \n",
    "  \n",
    "# mark = c()\n",
    "  \n",
    "# mark.age = 10\n",
    "  \n",
    "# print(mark.age)\n",
    "\n",
    "# output => \n",
    "\n",
    "# setter method called\n",
    "# getter method called\n",
    "# 10\n"
   ]
  },
  {
   "cell_type": "code",
   "execution_count": 25,
   "id": "162642e4-51a6-475d-a11c-e1c30c50a9cf",
   "metadata": {},
   "outputs": [],
   "source": [
    "# Ans 5 =>\n",
    "\n",
    "# Method overriding is an ability of any object-oriented programming language that allows a subclass or\n",
    "# child class to provide a specific implementation of a method that is already provided by one of its super-classes or \n",
    "# parent classes. When a method in a subclass has the same name, same parameters or signature and same return type(or sub-type) \n",
    "# as a method in its super-class, then the method in the subclass is said to override the method in the super-class\n",
    "\n",
    "\n",
    "# Example =>\n",
    "\n",
    "# class Parent():\n",
    "      \n",
    "#     def __init__(self):\n",
    "#         self.value = \"Inside Parent\"\n",
    "          \n",
    "#     def show(self):\n",
    "#         print(self.value)\n",
    "          \n",
    "# class Child(Parent):\n",
    "      \n",
    "#     def __init__(self):\n",
    "#         self.value = \"Inside Child\"\n",
    "          \n",
    "#     def show(self):\n",
    "#         print(self.value)\n",
    "          \n",
    "# obj1 = Parent()\n",
    "# obj2 = Child()\n",
    "  \n",
    "# obj1.show()\n",
    "# obj2.show()\n"
   ]
  },
  {
   "cell_type": "code",
   "execution_count": null,
   "id": "6f9553d3-de7a-4f14-afcc-fd65570fc98d",
   "metadata": {},
   "outputs": [],
   "source": []
  }
 ],
 "metadata": {
  "kernelspec": {
   "display_name": "Python 3 (ipykernel)",
   "language": "python",
   "name": "python3"
  },
  "language_info": {
   "codemirror_mode": {
    "name": "ipython",
    "version": 3
   },
   "file_extension": ".py",
   "mimetype": "text/x-python",
   "name": "python",
   "nbconvert_exporter": "python",
   "pygments_lexer": "ipython3",
   "version": "3.10.8"
  }
 },
 "nbformat": 4,
 "nbformat_minor": 5
}
