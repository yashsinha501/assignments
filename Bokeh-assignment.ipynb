{
 "cells": [
  {
   "cell_type": "markdown",
   "id": "ab9731aa-e9a7-4af9-8c67-b664569d4eb1",
   "metadata": {},
   "source": [
    "ANS 1 => \n",
    "\n",
    "Bokeh is a Python library for creating interactive visualizations in web browsers. Here are the basic steps for creating a Bokeh plot using Python code:\n",
    "\n",
    "Import the necessary Bokeh modules: bokeh.plotting and bokeh.io. Define the data you want to plot. This can be done using a Pandas DataFrame or a Python list, for example. Create a figure object using the figure() function from bokeh.plotting. This function takes various arguments to customize the plot, such as the plot width and height, x and y axis labels, etc. Add the desired glyphs (markers, lines, etc.) to the plot using one of the glyph methods such as circle(), line(), or rect() from the figure object. These methods take the data and the properties of the glyph as arguments. Add any desired interactive features to the plot such as tooltips, hover effects, and legends. Call the show() function from bokeh.io to display the plot in a web browser."
   ]
  },
  {
   "cell_type": "code",
   "execution_count": 1,
   "id": "bd55b00a-2f2a-4608-b2b2-4d1f975bcdf1",
   "metadata": {},
   "outputs": [],
   "source": [
    "import bokeh.plotting as bp\n",
    "import bokeh.io as bi\n",
    "import pandas as pd\n",
    "\n",
    "x = [1, 2, 3, 4, 5]\n",
    "y = [1, 4, 9, 16, 25]\n",
    "\n",
    "fig = bp.figure(title='My Plot', x_axis_label='X', y_axis_label='Y')\n",
    "\n",
    "fig.circle(x, y, size=10, color='navy', alpha=0.5)\n",
    "\n",
    "bi.show(fig)"
   ]
  },
  {
   "cell_type": "markdown",
   "id": "b7262443-5bec-4b6d-9b61-2621b7a41b4c",
   "metadata": {},
   "source": [
    "ANS 2 => \n",
    "\n",
    "Glyphs in Bokeh are the visual building blocks used to create plots. Glyphs represent the different shapes and markers used to display data points, such as circles, squares, lines, etc. Each glyph is defined by a set of properties, such as position, size, color, and transparency, which are used to customize its appearance.\n",
    "\n",
    "To add glyphs to a Bokeh plot, you need to create a figure object using the figure() function from bokeh.plotting, and then call one of the glyph methods such as circle(), line(), or rect() from the figure object. These methods take the data and the properties of the glyph as arguments.\n"
   ]
  },
  {
   "cell_type": "code",
   "execution_count": 2,
   "id": "6980f15e-b90c-490d-a2fb-6d69a4d51ad8",
   "metadata": {},
   "outputs": [],
   "source": [
    "import bokeh.plotting as bp\n",
    "import bokeh.io as bi\n",
    "import pandas as pd\n",
    "\n",
    "from bokeh.sampledata.iris import flowers as iris_data\n",
    "\n",
    "fig = bp.figure(title='Iris Scatter Plot', x_axis_label='Petal Length',\n",
    "                y_axis_label='Petal Width')\n",
    "\n",
    "fig.circle(x=iris_data[\"petal_length\"], y=iris_data[\"petal_width\"],\n",
    "           size=10, color='blue', alpha=0.5)\n",
    "\n",
    "bi.show(fig)"
   ]
  },
  {
   "cell_type": "markdown",
   "id": "9425c5ea-c84a-4185-bc88-62be322a51e2",
   "metadata": {},
   "source": [
    "ANS 3 =>\n",
    "\n",
    "Bokeh provides a wide range of options to customize the appearance of a plot. Here are some of the ways to customize the appearance of a Bokeh plot:\n",
    "\n",
    "Title and Axis Labels: You can add a title and axis labels to your plot using the title, x_axis_label, and y_axis_label attributes of the figure object.\n"
   ]
  },
  {
   "cell_type": "code",
   "execution_count": 3,
   "id": "69862b1e-de92-42cb-9f34-fada337fcabf",
   "metadata": {},
   "outputs": [],
   "source": [
    "fig = bp.figure(title='My Plot', x_axis_label='X Axis', y_axis_label='Y Axis')"
   ]
  },
  {
   "cell_type": "markdown",
   "id": "7688a9ed-807d-4395-9bbe-a550283be5dd",
   "metadata": {},
   "source": [
    "2) Axis Ticks and Labels: You can customize the axis ticks and labels using the major_label_text_font_size, axis_label_text_font_size, and major_tick_line_color attributes of the Axis class."
   ]
  },
  {
   "cell_type": "code",
   "execution_count": 4,
   "id": "f457ce41-3bdd-4b10-9ef1-74fc7c9de8eb",
   "metadata": {},
   "outputs": [],
   "source": [
    "fig.xaxis.major_label_text_font_size = '14pt'\n",
    "fig.yaxis.major_label_text_font_size = '14pt'\n",
    "fig.xaxis.axis_label_text_font_size = '16pt'\n",
    "fig.yaxis.axis_label_text_font_size = '16pt'\n",
    "fig.xaxis.major_tick_line_color = 'red'\n",
    "fig.yaxis.major_tick_line_color = 'red'"
   ]
  },
  {
   "cell_type": "markdown",
   "id": "d835eef0-e157-4f67-bfcf-4db0b988defa",
   "metadata": {},
   "source": [
    "3) Legend: You can add a legend to your plot using the legend attribute of the glyph methods. You can customize the location and title of the legend using the location and title attributes."
   ]
  },
  {
   "cell_type": "code",
   "execution_count": 5,
   "id": "548084db-88b0-444c-952b-088971256eb2",
   "metadata": {},
   "outputs": [],
   "source": [
    "fig.circle(x='x', y='y1', size=10, color='blue', legend_label='Series 1')\n",
    "fig.line(x='x', y='y2', line_width=2, color='red', legend_label='Series 2')\n",
    "fig.legend.location = 'top_left'\n",
    "fig.legend.title = 'Legend Title'"
   ]
  },
  {
   "cell_type": "markdown",
   "id": "f2a99a32-07ac-492e-9aa0-67abd9ea3f86",
   "metadata": {},
   "source": [
    "4) Background: You can set the background color of your plot using the background_fill_color attribute of the figure object."
   ]
  },
  {
   "cell_type": "code",
   "execution_count": 6,
   "id": "4c4a62ed-1067-4d24-a7d6-ce1874d663c2",
   "metadata": {},
   "outputs": [],
   "source": [
    "fig.background_fill_color = '#f2f2f2'"
   ]
  },
  {
   "cell_type": "markdown",
   "id": "19883fdd-6395-44dc-9a64-77e66df44ee2",
   "metadata": {},
   "source": [
    "5) Gridlines: You can customize the appearance of the gridlines using the grid_line_color and grid_line_alpha attributes of the figure object."
   ]
  },
  {
   "cell_type": "code",
   "execution_count": 7,
   "id": "cbd14d48-2a72-4333-954f-bfdd66c93345",
   "metadata": {},
   "outputs": [],
   "source": [
    "fig.grid.grid_line_color = 'white'\n",
    "fig.grid.grid_line_alpha = 0.5"
   ]
  },
  {
   "cell_type": "markdown",
   "id": "9657a33e-ea6b-4ef6-8f9a-8c8b4b3653f5",
   "metadata": {},
   "source": [
    "ANS 4 =>\n",
    "\n",
    "Bokeh server is a Python library that allows you to create interactive Bokeh plots that can be updated in real-time. Bokeh server is built on top of Tornado, a scalable web framework for Python.\n",
    "\n",
    "To create an interactive plot using Bokeh server, you need to define your plot as a Bokeh Document object. The Document object contains all the Bokeh objects that make up your plot, such as figures, glyphs, and layouts. You can then add interactive widgets to your plot, such as sliders, buttons, and dropdown menus. The widgets are defined using Bokeh's models API and added to the Document.\n",
    "\n",
    "Once you have defined your plot and added interactive widgets, you can run the Bokeh server using the bokeh serve command. The Bokeh server creates a web application that serves your plot and widgets. When a user interacts with the widgets, the server updates the plot in real-time based on the user's input.\n",
    "\n",
    "Here is an example of how to create an interactive Bokeh plot using Bokeh server:\n"
   ]
  },
  {
   "cell_type": "code",
   "execution_count": 8,
   "id": "ba5e32ed-45d5-4c97-a5e4-7bcc237cc288",
   "metadata": {},
   "outputs": [],
   "source": [
    "from bokeh.io import curdoc\n",
    "from bokeh.layouts import column\n",
    "from bokeh.models import ColumnDataSource, Slider\n",
    "from bokeh.plotting import figure\n",
    "\n",
    "source = ColumnDataSource(data=dict(x=[1, 2, 3], y=[1, 4, 9]))\n",
    "\n",
    "plot = figure(title='Interactive Plot', x_axis_label='X', y_axis_label='Y')\n",
    "plot.line('x', 'y', source=source, line_width=2)\n",
    "\n",
    "slider = Slider(title='Power', value=1, start=0.1, end=5, step=0.1)\n",
    "\n",
    "def update_data(attrname, old, new):\n",
    "    new_y = [x**slider.value for x in source.data['x']]\n",
    "    source.data = dict(x=source.data['x'], y=new_y)\n",
    "\n",
    "slider.on_change('value', update_data)\n",
    "\n",
    "layout = column(plot, slider)\n",
    "\n",
    "curdoc().add_root(layout)"
   ]
  },
  {
   "cell_type": "code",
   "execution_count": null,
   "id": "58ffc091-8a5b-49c8-beef-243c8e8de3a2",
   "metadata": {},
   "outputs": [],
   "source": [
    "# ANS 5 =>\n",
    "\n",
    "from flask import Flask, render_template\n",
    "from bokeh.embed import components\n",
    "from bokeh.plotting import figure\n",
    "from bokeh.resources import CDN\n",
    "\n",
    "app = Flask(__name__)\n",
    "\n",
    "@app.route('/')\n",
    "def index():\n",
    "    plot = figure(title='My Plot', x_axis_label='X', y_axis_label='Y')\n",
    "    plot.line([1, 2, 3], [1, 4, 9])\n",
    "\n",
    "    script, div = components(plot)\n",
    "\n",
    "    return render_template('main.html', script=script, div=div, cdn_js=CDN.js_files[0], cdn_css=CDN.css_files[0])\n",
    "\n",
    "if __name__ == '__main__':\n",
    "    app.run()"
   ]
  }
 ],
 "metadata": {
  "kernelspec": {
   "display_name": "Python 3 (ipykernel)",
   "language": "python",
   "name": "python3"
  },
  "language_info": {
   "codemirror_mode": {
    "name": "ipython",
    "version": 3
   },
   "file_extension": ".py",
   "mimetype": "text/x-python",
   "name": "python",
   "nbconvert_exporter": "python",
   "pygments_lexer": "ipython3",
   "version": "3.10.8"
  }
 },
 "nbformat": 4,
 "nbformat_minor": 5
}
