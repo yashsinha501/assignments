{
 "cells": [
  {
   "cell_type": "code",
   "execution_count": null,
   "id": "466d3fd4-7c42-4292-bd82-9e67f4c1f843",
   "metadata": {},
   "outputs": [],
   "source": [
    "# ANS 1 =>\n",
    "\n",
    "import seaborn as sns\n",
    "import plotly.express as px\n",
    "\n",
    "# Load the titanic dataset\n",
    "titanic_data = sns.load_dataset(\"titanic\")\n",
    "\n",
    "# Create a scatter plot for age and fare columns\n",
    "scatter_plot = px.scatter(titanic_data, x=\"age\", y=\"fare\")\n",
    "\n",
    "# Show the scatter plot\n",
    "scatter_plot.show()\n",
    "\n"
   ]
  },
  {
   "cell_type": "code",
   "execution_count": null,
   "id": "832ee292-3417-41ad-8194-fc8e4e518482",
   "metadata": {},
   "outputs": [],
   "source": [
    "# ANS 2 =>\n",
    "\n",
    "\n",
    "# Load the tips dataset from Plotly\n",
    "tips_data = px.data.tips()\n",
    "\n",
    "# Create a box plot for total bill and day of the week\n",
    "box_plot = px.box(tips_data, x=\"day\", y=\"total_bill\")\n",
    "\n",
    "# Show the box plot\n",
    "box_plot.show()\n",
    "\n"
   ]
  },
  {
   "cell_type": "code",
   "execution_count": null,
   "id": "ed8775d3-4ee7-4ef9-bdc1-b97e9710b102",
   "metadata": {},
   "outputs": [],
   "source": [
    "# ANS 3 =>\n",
    "\n",
    "\n",
    "# Load the tips dataset from Plotly\n",
    "tips_data = px.data.tips()\n",
    "\n",
    "# Create a histogram for total bill, with sex on the x-axis and smoker on the pattern_shape parameter\n",
    "histogram = px.histogram(tips_data, x=\"sex\", y=\"total_bill\", color=\"day\", pattern_shape=\"smoker\")\n",
    "\n",
    "# Show the histogram\n",
    "histogram.show()\n",
    "\n"
   ]
  },
  {
   "cell_type": "code",
   "execution_count": null,
   "id": "64a74412-a430-4247-ad6d-1d3d6a512af2",
   "metadata": {},
   "outputs": [],
   "source": [
    "# ANS 4 =>\n",
    "\n",
    "\n",
    "# Load the iris dataset from Plotly\n",
    "iris_data = px.data.iris()\n",
    "\n",
    "# Create a scatter matrix plot\n",
    "scatter_matrix = px.scatter_matrix(\n",
    "    iris_data,\n",
    "    dimensions=[\"sepal_length\", \"sepal_width\", \"petal_length\", \"petal_width\"],\n",
    "    color=\"species\"\n",
    ")\n",
    "\n",
    "# Show the scatter matrix plot\n",
    "scatter_matrix.show()\n"
   ]
  },
  {
   "cell_type": "code",
   "execution_count": null,
   "id": "d7550d7e-7544-4914-a5b8-1e8a9799a8a6",
   "metadata": {},
   "outputs": [],
   "source": [
    "# ANS 5 =>\n",
    "\n",
    "Distplot is a seaborn library function that is used to visualize a univariate distribution of observations. It combines\n",
    "histogram with a kernel density estimate, allowing to visualize the distribution of a variable along with its density curve.\n",
    "\n",
    "\n",
    "# Load the tips dataset from Plotly\n",
    "tips_data = px.data.tips()\n",
    "\n",
    "# Create a histogram for total bill\n",
    "histogram = px.histogram(tips_data, x=\"total_bill\")\n",
    "\n",
    "# Show the histogram\n",
    "histogram.show()"
   ]
  }
 ],
 "metadata": {
  "kernelspec": {
   "display_name": "Python 3 (ipykernel)",
   "language": "python",
   "name": "python3"
  },
  "language_info": {
   "codemirror_mode": {
    "name": "ipython",
    "version": 3
   },
   "file_extension": ".py",
   "mimetype": "text/x-python",
   "name": "python",
   "nbconvert_exporter": "python",
   "pygments_lexer": "ipython3",
   "version": "3.10.8"
  }
 },
 "nbformat": 4,
 "nbformat_minor": 5
}
