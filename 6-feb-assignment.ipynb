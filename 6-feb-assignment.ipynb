{
 "cells": [
  {
   "cell_type": "code",
   "execution_count": 27,
   "id": "bbcae614-e835-4b1f-812b-360e9f054de4",
   "metadata": {},
   "outputs": [
    {
     "name": "stdout",
     "output_type": "stream",
     "text": [
      "4134711838987085478833841242112000\n"
     ]
    }
   ],
   "source": [
    "# Ans 1 =>\n",
    "\n",
    "from functools import reduce\n",
    "\n",
    "def helpfunc(list2):\n",
    "    mul=reduce(lambda x,y:x*y,list2)\n",
    "    print(mul)\n",
    "\n",
    "list1 = [1,2,3,4, [44,55,66, True], False, (34,56,78,89,34), {1,2,3,3,2,1}, {1:34, \"key2\": [55, 67, 78, 89], 4: (45,\n",
    "22, 61, 34)}, [56, 'data science'], 'Machine Learning']  \n",
    "    \n",
    "    \n",
    "def func(list1):\n",
    "    l=[]\n",
    "    for i in list1:\n",
    "        if type(i) == int :\n",
    "            l.append(i)\n",
    "        elif type(i)==list:\n",
    "            l.extend(func(i))\n",
    "        elif type(i)==tuple:\n",
    "            l.extend(i)\n",
    "        elif type(i)==set:\n",
    "            l.extend(list(i))\n",
    "        elif type(i)==dict:\n",
    "            for p,q in i.items():\n",
    "                if type(p) in [int,float]:\n",
    "                    l.append(p)\n",
    "                if type(q) in [int,float]:\n",
    "                    l.append(q)\n",
    "                if type(q) in [list,tuple,set]:\n",
    "                    l.extend(func(q))               \n",
    "    return l\n",
    "                    \n",
    "l2=func(list1)\n",
    "helpfunc(l2)\n",
    "\n",
    "\n"
   ]
  },
  {
   "cell_type": "code",
   "execution_count": 16,
   "id": "c447430b-6ab0-49b3-8d21-91671667e4e3",
   "metadata": {},
   "outputs": [
    {
     "name": "stdin",
     "output_type": "stream",
     "text": [
      "Enter the message :  I want to become a Data Scientist\n"
     ]
    },
    {
     "name": "stdout",
     "output_type": "stream",
     "text": [
      "Encrypted message is :  i$wznt$to$yexome$z$dztz$sxientist\n"
     ]
    }
   ],
   "source": [
    "# Ans 2 =>\n",
    "\n",
    "string=input(\"Enter the message : \")\n",
    "string=string.lower()\n",
    "encrypt=\"\"\n",
    "\n",
    "for i in string:\n",
    "    if i==\" \":\n",
    "        encrypt=encrypt+\"$\"\n",
    "    elif i==\"a\":\n",
    "        encrypt=encrypt+\"z\"\n",
    "    elif i==\"b\":\n",
    "        encrypt=encrypt+\"y\"\n",
    "    elif i==\"c\":\n",
    "        encrypt=encrypt+\"x\"\n",
    "    else:\n",
    "        encrypt=encrypt+i\n",
    "    \n",
    "print(\"Encrypted message is : \",encrypt )"
   ]
  }
 ],
 "metadata": {
  "kernelspec": {
   "display_name": "Python 3 (ipykernel)",
   "language": "python",
   "name": "python3"
  },
  "language_info": {
   "codemirror_mode": {
    "name": "ipython",
    "version": 3
   },
   "file_extension": ".py",
   "mimetype": "text/x-python",
   "name": "python",
   "nbconvert_exporter": "python",
   "pygments_lexer": "ipython3",
   "version": "3.10.8"
  }
 },
 "nbformat": 4,
 "nbformat_minor": 5
}
