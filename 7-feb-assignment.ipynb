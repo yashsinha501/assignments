{
 "cells": [
  {
   "cell_type": "code",
   "execution_count": 16,
   "id": "c8465559-39d8-4a8c-9bb5-9e79f3b05711",
   "metadata": {},
   "outputs": [
    {
     "name": "stdin",
     "output_type": "stream",
     "text": [
      "Enter the password :  YASHsinha@@@123\n"
     ]
    },
    {
     "name": "stdout",
     "output_type": "stream",
     "text": [
      "A Valid Password \n"
     ]
    }
   ],
   "source": [
    "# Ans 1 =>\n",
    "\n",
    "password = input(\"Enter the password : \")\n",
    "flag,lo,up,num,spe=0,0,0,0,0\n",
    "\n",
    "for i in password:\n",
    "\tif (len(password)<=8):\n",
    "\t\tflag = -1\n",
    "\t\tbreak\n",
    "\telif i>='a' and i<='z':\n",
    "\t\tlo=lo+1\n",
    "\telif i>='A' and i<='Z':\n",
    "\t\tup=up+1\n",
    "\telif i>='0' and i<='9':\n",
    "\t\tnum=num+1\n",
    "\n",
    "if flag == -1:\n",
    "\tprint(\"Not a Valid Password \")\n",
    "elif lo>=2 and up>=2 and num>=1 and (len(password)-lo-up-num)>=3:\n",
    "    print(\"A Valid Password \")\n",
    "\n"
   ]
  },
  {
   "cell_type": "code",
   "execution_count": 17,
   "id": "eb2f2546-52b3-4fc1-abe5-cb55079b1ce2",
   "metadata": {},
   "outputs": [
    {
     "name": "stdout",
     "output_type": "stream",
     "text": [
      "True\n"
     ]
    }
   ],
   "source": [
    "# Ans.2\n",
    "\n",
    "# I. Check if the string starts with a particular letter\n",
    "\n",
    "l=['yash','sarthak','shivi']\n",
    "w='y'\n",
    "l2=list(filter(lambda x :x.lower().startswith(w),l))\n",
    "\n",
    "if len(l2)>0:\n",
    "    print(True)\n",
    "else:\n",
    "    print(False)"
   ]
  },
  {
   "cell_type": "code",
   "execution_count": 22,
   "id": "b1617750-93aa-4ff1-aff2-01020118101e",
   "metadata": {},
   "outputs": [
    {
     "name": "stdout",
     "output_type": "stream",
     "text": [
      "True\n"
     ]
    }
   ],
   "source": [
    "# II. Check if the string is numericY  \n",
    "\n",
    "l = ['720', 'xyz', '111', 'pqr']\n",
    "\n",
    "l1=list(filter(lambda x: x.isdigit(), l))\n",
    "\n",
    "if len(l1)>0:\n",
    "    print(\"True\")\n",
    "else:\n",
    "    print(\"False\")"
   ]
  },
  {
   "cell_type": "code",
   "execution_count": 23,
   "id": "4f68a8e7-eda8-40ce-8ed0-3068f915a5f7",
   "metadata": {},
   "outputs": [
    {
     "name": "stdout",
     "output_type": "stream",
     "text": [
      "[('orange', 80), ('mango', 99), ('grapes', 1000)]\n"
     ]
    }
   ],
   "source": [
    "# III. Sort a list of tuples having fruit names and their quantity. [(\"mango\",99),(\"orange\",80), (\"grapes\", 1000)]\n",
    "\n",
    "l=[(\"mango\",99),(\"orange\",80), (\"grapes\", 1000)]\n",
    "\n",
    "l.sort(key=lambda x: x[1])\n",
    "print(l)"
   ]
  },
  {
   "cell_type": "code",
   "execution_count": 25,
   "id": "c31dd592-0fd5-413f-934b-43a544f25226",
   "metadata": {},
   "outputs": [
    {
     "data": {
      "text/plain": [
       "[1, 4, 9, 16, 25, 36, 49, 64, 81, 100]"
      ]
     },
     "execution_count": 25,
     "metadata": {},
     "output_type": "execute_result"
    }
   ],
   "source": [
    "# IV. Find the squares of numbers from 1 to 10 \n",
    "\n",
    "l=[i**2 for i in range(1,11)]\n",
    "l"
   ]
  },
  {
   "cell_type": "code",
   "execution_count": 26,
   "id": "8860c865-9225-4942-aa09-e7edc9d04fad",
   "metadata": {},
   "outputs": [
    {
     "data": {
      "text/plain": [
       "[1.0,\n",
       " 1.2599210498948732,\n",
       " 1.4422495703074083,\n",
       " 1.5874010519681994,\n",
       " 1.7099759466766968,\n",
       " 1.8171205928321397,\n",
       " 1.912931182772389,\n",
       " 2.0,\n",
       " 2.080083823051904,\n",
       " 2.154434690031884]"
      ]
     },
     "execution_count": 26,
     "metadata": {},
     "output_type": "execute_result"
    }
   ],
   "source": [
    "# V. Find the cube root of numbers from 1 to 10 \n",
    "\n",
    "import math\n",
    "l=[math.pow(i,1/3) for i in range(1,11)]\n",
    "l"
   ]
  },
  {
   "cell_type": "code",
   "execution_count": 28,
   "id": "300d6a92-7247-45b9-8972-201c6ed179b7",
   "metadata": {},
   "outputs": [
    {
     "data": {
      "text/plain": [
       "[2, 4, 6, 8, 10, 20, 30, 40, 50]"
      ]
     },
     "execution_count": 28,
     "metadata": {},
     "output_type": "execute_result"
    }
   ],
   "source": [
    "# VI. Check if a given number is even\n",
    "\n",
    "l=[1,2,3,4,5,6,7,8,9,10,20,30,40,50]\n",
    "l1=list(filter(lambda x:x%2==0,l))\n",
    "l1"
   ]
  },
  {
   "cell_type": "code",
   "execution_count": 30,
   "id": "e0eb2787-0efb-4625-9ea6-6520aa32118b",
   "metadata": {},
   "outputs": [
    {
     "data": {
      "text/plain": [
       "[1, 3, 5, 7, 9]"
      ]
     },
     "execution_count": 30,
     "metadata": {},
     "output_type": "execute_result"
    }
   ],
   "source": [
    "# VII.Filter odd numbers from the given list. [1,2,3,4,5,6,7,8,9,10]\n",
    "\n",
    "l=[1,2,3,4,5,6,7,8,9,10]\n",
    "l1=list(filter(lambda x:x%2!=0,l))\n",
    "l1"
   ]
  },
  {
   "cell_type": "code",
   "execution_count": 31,
   "id": "42416611-7d0f-4940-ab3f-cb85bcda4dd7",
   "metadata": {},
   "outputs": [
    {
     "name": "stdout",
     "output_type": "stream",
     "text": [
      "[0, 1, 2, 3, 4, 5, 6]\n",
      "[-5, -4, -3, -2, -1]\n"
     ]
    }
   ],
   "source": [
    "# VIII.Sort a list of integers into positive and negative integers lists. [1,2,3,4,5,6,-1,-2,-3,-4,-5,0]\n",
    "\n",
    "l=[1,2,3,4,5,6,-1,-2,-3,-4,-5,0]\n",
    "\n",
    "pos=sorted(list(filter(lambda x:x>=0 ,l)))\n",
    "neg=sorted(list(filter(lambda x:x<0 ,l)))\n",
    "print(pos)\n",
    "print(neg)"
   ]
  },
  {
   "cell_type": "code",
   "execution_count": null,
   "id": "f7b08ee2-0b2c-440c-ba24-98b20398756f",
   "metadata": {},
   "outputs": [],
   "source": []
  }
 ],
 "metadata": {
  "kernelspec": {
   "display_name": "Python 3 (ipykernel)",
   "language": "python",
   "name": "python3"
  },
  "language_info": {
   "codemirror_mode": {
    "name": "ipython",
    "version": 3
   },
   "file_extension": ".py",
   "mimetype": "text/x-python",
   "name": "python",
   "nbconvert_exporter": "python",
   "pygments_lexer": "ipython3",
   "version": "3.10.8"
  }
 },
 "nbformat": 4,
 "nbformat_minor": 5
}
