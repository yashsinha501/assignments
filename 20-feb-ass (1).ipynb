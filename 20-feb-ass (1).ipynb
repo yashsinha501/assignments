{
 "cells": [
  {
   "cell_type": "code",
   "execution_count": 1,
   "id": "ee1f50d5-bd8d-43a6-994e-f1175fe1d517",
   "metadata": {},
   "outputs": [],
   "source": [
    "# ANS 1=> \n",
    "\n",
    "#  In Flask, there are different methods to handle HTTP requests. e.g GET, POST, PUT, DELETE, HEAD.\n",
    "# These methods are used to Send, Request, and Modify data on the server. \n",
    "\n",
    "# GET: This method is used to retrieve data from the server. e.g In an eCommerce application, there is a search button to search\n",
    "#      for an item. after entering a keyword if we noticed, the keyword you searched for gets displayed in the URL. This request is \n",
    "#      used when the data is not sensitive.\n",
    "        \n",
    "# POST: This method makes enables users to send data over to the server. e.g In any authentication-enabled application, the \n",
    "#       registration and login form is the best example for the post method. Whenever we enter Information and submit the data get\n",
    "#       transferred over to the POST request. And if we noticed, unlike get request there is no information will be ever displayed in \n",
    "#       the URL.\n"
   ]
  },
  {
   "cell_type": "code",
   "execution_count": 2,
   "id": "113388e7-8121-4584-868f-16e2aace6527",
   "metadata": {},
   "outputs": [],
   "source": [
    "# ANS 2 => \n",
    "\n",
    "# In a Flask App, we have our own Webpage (Client) and a Server. The Server should process the data.  The Request, in Flask, is an \n",
    "# object that contains all the data sent from the Client to Server. This data can be recovered using the GET/POST Methods. POST is \n",
    "# used when your application expects user input to be received by command or an HTTP request, while GET gets all the information before\n",
    "# it even has a chance for submission. Using both methods at once gives perfect freedom but still requires complex UI patterns like\n",
    "# AJAX calls etc, with most common applications being frameworks where multiple forms are necessary such as Slack Webhooks, \n",
    "# MailgunMailserver, and eCommerce Commerce Framework. With Flask-Request class instead, we don’t have any need anymore since this API\n",
    "# allows us flexible handling of many other situations.\n",
    "\n",
    "# There are various attributes associated with the request objects. They are Form, Cookies, Args, Files, and Method. \n",
    "\n",
    "# The form is used to create and return the form data from other application codes like JSP API or POST. \n",
    "\n",
    "# The cookies property contains cookie contents that will allow the client to access a piece of information about users’ details \n",
    "# through the Cookie header field of returned JSON Object Content Type Information. \n",
    "\n",
    "# Args is used to initialize a Request constructor which you have given as a parameter of the class. \n",
    "\n",
    "# Files are used to refer to file data stored in the user’s cookies (whereas a method is an HTTP API for accessing those files).\n",
    "\n",
    "# The method is used to create a new form element or an existing one via custom URL configuration.\n"
   ]
  },
  {
   "cell_type": "code",
   "execution_count": 3,
   "id": "f3683e94-c356-4ad5-92c2-f5edfffe6f87",
   "metadata": {},
   "outputs": [],
   "source": [
    "# ANS 3 =>\n",
    "\n",
    "# We’ll discuss redirects and errors with Python Flask in this article. A redirect is used in the Flask class to send the user to a\n",
    "# particular URL with the status code. conversely, this status code additionally identifies the issue. When we access a website, our\n",
    "# browser sends a request to the server, and the server replies with what is known as the HTTP status code, which is a three-digit \n",
    "# number, The different reasons for errors are:\n",
    "\n",
    "# Unauthorized access or poor request.\n",
    "# Unsupported media file types.\n",
    "# Overload of the backend server.\n",
    "# Internal hardware/connection error.\n",
    "\n",
    "# Syntax of Redirect\n",
    "\n",
    "# flask.redirect(location,code=302)\n",
    "\n",
    "# Parameters:\n",
    "\n",
    "# location(str): the location which URL directs to.\n",
    "# code(int): The status code for Redirect.\n",
    "# Code: The default code is 302 which means that the move is only temporary.\n",
    "# Return: The response object and redirects the user to another target location with the specified code.\n",
    "\n",
    "\n"
   ]
  },
  {
   "cell_type": "code",
   "execution_count": 4,
   "id": "3588a433-6bb0-4183-8d9a-c519e857e8d5",
   "metadata": {},
   "outputs": [],
   "source": [
    "# ANS 4 => \n",
    "\n",
    "# In Flask, templates are used to create HTML pages that can be dynamically generated based on data provided by the application. \n",
    "# Templates are typically written using a templating language like Jinja2 and can include placeholders for data that will be filled \n",
    "# in by the application at runtime.\n",
    "\n",
    "# The render_template() function is used in Flask to render a template and return it as a response to the user's request. This \n",
    "# function takes the name of the template file and any data that needs to be passed to the template as arguments. The function then \n",
    "# processes the template and fills in the placeholders with the provided data before returning the final HTML page to the user.\n",
    "\n",
    "# For example, consider the following code snippet:\n",
    "\n",
    "# from flask import Flask, render_template\n",
    "\n",
    "# app = Flask(__name__)\n",
    "\n",
    "# @app.route('/')\n",
    "# def index():\n",
    "#     name = 'Alice'\n",
    "#     return render_template('index.html', name=name)\n",
    "\n"
   ]
  },
  {
   "cell_type": "markdown",
   "id": "bfb6da4e-4977-4bc3-83ed-6e05e7110f3b",
   "metadata": {},
   "source": [
    "# ANS 5 =>\n",
    "\n",
    "# from flask import Flask, jsonify\n",
    "\n",
    "# app = Flask(name)\n",
    "\n",
    "# @app.route('/apiTest', methods=['POST']) \n",
    "# def hello():\n",
    "#     response = {'message': 'Hello, World!'} \n",
    "#     return jsonify(response)\n",
    "\n",
    "# if name == 'main': app.run(\"0.0.0.0\") \n",
    "\n"
   ]
  },
  {
   "cell_type": "code",
   "execution_count": null,
   "id": "55d85a72-8afc-4b37-b931-377e918cfa00",
   "metadata": {},
   "outputs": [],
   "source": [
    "https://lemon-postman-knvwo.pwskills.app/lab/tree/work/postman.png"
   ]
  }
 ],
 "metadata": {
  "kernelspec": {
   "display_name": "Python 3 (ipykernel)",
   "language": "python",
   "name": "python3"
  },
  "language_info": {
   "codemirror_mode": {
    "name": "ipython",
    "version": 3
   },
   "file_extension": ".py",
   "mimetype": "text/x-python",
   "name": "python",
   "nbconvert_exporter": "python",
   "pygments_lexer": "ipython3",
   "version": "3.10.8"
  }
 },
 "nbformat": 4,
 "nbformat_minor": 5
}
